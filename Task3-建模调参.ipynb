{
 "cells": [
  {
   "cell_type": "code",
   "execution_count": 1,
   "metadata": {},
   "outputs": [],
   "source": [
    "#读取数据\n",
    "import pandas as pd\n",
    "import numpy as np\n",
    "import warnings\n",
    "warnings.filterwarnings('ignore')\n",
    "\n",
    "Train_data = pd.read_csv('./used_car_train_20200313.csv', sep=' ')\n",
    "Test_data = pd.read_csv('./used_car_testA_20200313.csv', sep=' ')"
   ]
  },
  {
   "cell_type": "code",
   "execution_count": 2,
   "metadata": {},
   "outputs": [],
   "source": [
    "# reduce_mem_usage函数通过调整数据类型，帮助我们减少数据在内存中的空间\n",
    "def reduce_mem_usage(df):\n",
    "    \"\"\" iterate through all the columns of a dataframe and modify the data type\n",
    "        to reduce memory usage.        \n",
    "    \"\"\"\n",
    "    start_mem = df.memory_usage().sum() \n",
    "    print('Memory usage of dataframe is {:.2f} MB'.format(start_mem))\n",
    "    \n",
    "    for col in df.columns:\n",
    "        col_type = df[col].dtype\n",
    "        \n",
    "        if col_type != object:\n",
    "            c_min = df[col].min()\n",
    "            c_max = df[col].max()\n",
    "            if str(col_type)[:3] == 'int':\n",
    "                if c_min > np.iinfo(np.int8).min and c_max < np.iinfo(np.int8).max:\n",
    "                    df[col] = df[col].astype(np.int8)\n",
    "                elif c_min > np.iinfo(np.int16).min and c_max < np.iinfo(np.int16).max:\n",
    "                    df[col] = df[col].astype(np.int16)\n",
    "                elif c_min > np.iinfo(np.int32).min and c_max < np.iinfo(np.int32).max:\n",
    "                    df[col] = df[col].astype(np.int32)\n",
    "                elif c_min > np.iinfo(np.int64).min and c_max < np.iinfo(np.int64).max:\n",
    "                    df[col] = df[col].astype(np.int64)  \n",
    "            else:\n",
    "                if c_min > np.finfo(np.float16).min and c_max < np.finfo(np.float16).max:\n",
    "                    df[col] = df[col].astype(np.float16)\n",
    "                elif c_min > np.finfo(np.float32).min and c_max < np.finfo(np.float32).max:\n",
    "                    df[col] = df[col].astype(np.float32)\n",
    "                else:\n",
    "                    df[col] = df[col].astype(np.float64)\n",
    "        else:\n",
    "            df[col] = df[col].astype('category')\n",
    "\n",
    "    end_mem = df.memory_usage().sum() \n",
    "    print('Memory usage after optimization is: {:.2f} MB'.format(end_mem))\n",
    "    print('Decreased by {:.1f}%'.format(100 * (start_mem - end_mem) / start_mem))\n",
    "    return df\n"
   ]
  },
  {
   "cell_type": "code",
   "execution_count": 3,
   "metadata": {},
   "outputs": [
    {
     "name": "stdout",
     "output_type": "stream",
     "text": [
      "Memory usage of dataframe is 69563904.00 MB\n",
      "Memory usage after optimization is: 19092464.00 MB\n",
      "Decreased by 72.6%\n"
     ]
    }
   ],
   "source": [
    "sample_feature = reduce_mem_usage(pd.read_csv('data_for_tree.csv'))"
   ]
  },
  {
   "cell_type": "code",
   "execution_count": 4,
   "metadata": {},
   "outputs": [],
   "source": [
    "continuous_feature_names = [x for x in sample_feature.columns if x not in ['price','brand','model','brand']]"
   ]
  },
  {
   "cell_type": "code",
   "execution_count": 8,
   "metadata": {},
   "outputs": [],
   "source": [
    "# 线性回归& 五折交叉验证& 模拟真实业务情况\n",
    "sample_feature = sample_feature.dropna().replace('-', 0).reset_index(drop=True)\n",
    "sample_feature['notRepairedDamage'] = sample_feature['notRepairedDamage'].astype(np.float32)\n",
    "train = sample_feature[continuous_feature_names + ['price']]\n",
    "\n",
    "train_X = train[continuous_feature_names]\n",
    "train_Y = train['price']"
   ]
  },
  {
   "cell_type": "code",
   "execution_count": 6,
   "metadata": {},
   "outputs": [
    {
     "data": {
      "text/html": [
       "<div>\n",
       "<style scoped>\n",
       "    .dataframe tbody tr th:only-of-type {\n",
       "        vertical-align: middle;\n",
       "    }\n",
       "\n",
       "    .dataframe tbody tr th {\n",
       "        vertical-align: top;\n",
       "    }\n",
       "\n",
       "    .dataframe thead th {\n",
       "        text-align: right;\n",
       "    }\n",
       "</style>\n",
       "<table border=\"1\" class=\"dataframe\">\n",
       "  <thead>\n",
       "    <tr style=\"text-align: right;\">\n",
       "      <th></th>\n",
       "      <th>SaleID</th>\n",
       "      <th>bodyType</th>\n",
       "      <th>fuelType</th>\n",
       "      <th>gearbox</th>\n",
       "      <th>kilometer</th>\n",
       "      <th>name</th>\n",
       "      <th>notRepairedDamage</th>\n",
       "      <th>offerType</th>\n",
       "      <th>power</th>\n",
       "      <th>seller</th>\n",
       "      <th>...</th>\n",
       "      <th>brand_price_std_x</th>\n",
       "      <th>brand_price_average_x</th>\n",
       "      <th>brand_amount_y</th>\n",
       "      <th>brand_price_max_y</th>\n",
       "      <th>brand_price_median_y</th>\n",
       "      <th>brand_price_min_y</th>\n",
       "      <th>brand_price_sum_y</th>\n",
       "      <th>brand_price_std_y</th>\n",
       "      <th>brand_price_average_y</th>\n",
       "      <th>power_bin</th>\n",
       "    </tr>\n",
       "  </thead>\n",
       "  <tbody>\n",
       "    <tr>\n",
       "      <th>0</th>\n",
       "      <td>0</td>\n",
       "      <td>1.0</td>\n",
       "      <td>0.0</td>\n",
       "      <td>0.0</td>\n",
       "      <td>12.5</td>\n",
       "      <td>736</td>\n",
       "      <td>0.0</td>\n",
       "      <td>0</td>\n",
       "      <td>60</td>\n",
       "      <td>0</td>\n",
       "      <td>...</td>\n",
       "      <td>3820.0</td>\n",
       "      <td>3140.0</td>\n",
       "      <td>9568.0</td>\n",
       "      <td>30333.0</td>\n",
       "      <td>1700.0</td>\n",
       "      <td>14.0</td>\n",
       "      <td>30040896.0</td>\n",
       "      <td>3820.0</td>\n",
       "      <td>3140.0</td>\n",
       "      <td>5.0</td>\n",
       "    </tr>\n",
       "    <tr>\n",
       "      <th>1</th>\n",
       "      <td>2</td>\n",
       "      <td>1.0</td>\n",
       "      <td>0.0</td>\n",
       "      <td>0.0</td>\n",
       "      <td>12.5</td>\n",
       "      <td>14874</td>\n",
       "      <td>0.0</td>\n",
       "      <td>0</td>\n",
       "      <td>163</td>\n",
       "      <td>0</td>\n",
       "      <td>...</td>\n",
       "      <td>4352.0</td>\n",
       "      <td>8704.0</td>\n",
       "      <td>1252.0</td>\n",
       "      <td>34990.0</td>\n",
       "      <td>7900.0</td>\n",
       "      <td>100.0</td>\n",
       "      <td>10910705.0</td>\n",
       "      <td>4352.0</td>\n",
       "      <td>8704.0</td>\n",
       "      <td>16.0</td>\n",
       "    </tr>\n",
       "    <tr>\n",
       "      <th>2</th>\n",
       "      <td>4</td>\n",
       "      <td>1.0</td>\n",
       "      <td>0.0</td>\n",
       "      <td>0.0</td>\n",
       "      <td>5.0</td>\n",
       "      <td>111080</td>\n",
       "      <td>0.0</td>\n",
       "      <td>0</td>\n",
       "      <td>68</td>\n",
       "      <td>0</td>\n",
       "      <td>...</td>\n",
       "      <td>2860.0</td>\n",
       "      <td>3034.0</td>\n",
       "      <td>4400.0</td>\n",
       "      <td>28600.0</td>\n",
       "      <td>2200.0</td>\n",
       "      <td>20.0</td>\n",
       "      <td>13355631.0</td>\n",
       "      <td>2860.0</td>\n",
       "      <td>3034.0</td>\n",
       "      <td>6.0</td>\n",
       "    </tr>\n",
       "    <tr>\n",
       "      <th>3</th>\n",
       "      <td>5</td>\n",
       "      <td>0.0</td>\n",
       "      <td>1.0</td>\n",
       "      <td>0.0</td>\n",
       "      <td>10.0</td>\n",
       "      <td>137642</td>\n",
       "      <td>0.0</td>\n",
       "      <td>0</td>\n",
       "      <td>109</td>\n",
       "      <td>0</td>\n",
       "      <td>...</td>\n",
       "      <td>7300.0</td>\n",
       "      <td>7484.0</td>\n",
       "      <td>13240.0</td>\n",
       "      <td>92900.0</td>\n",
       "      <td>5000.0</td>\n",
       "      <td>40.0</td>\n",
       "      <td>99085648.0</td>\n",
       "      <td>7300.0</td>\n",
       "      <td>7484.0</td>\n",
       "      <td>10.0</td>\n",
       "    </tr>\n",
       "    <tr>\n",
       "      <th>4</th>\n",
       "      <td>6</td>\n",
       "      <td>0.0</td>\n",
       "      <td>0.0</td>\n",
       "      <td>1.0</td>\n",
       "      <td>15.0</td>\n",
       "      <td>2402</td>\n",
       "      <td>0.0</td>\n",
       "      <td>0</td>\n",
       "      <td>150</td>\n",
       "      <td>0</td>\n",
       "      <td>...</td>\n",
       "      <td>7096.0</td>\n",
       "      <td>7792.0</td>\n",
       "      <td>15840.0</td>\n",
       "      <td>99999.0</td>\n",
       "      <td>5900.0</td>\n",
       "      <td>30.0</td>\n",
       "      <td>123470888.0</td>\n",
       "      <td>7096.0</td>\n",
       "      <td>7792.0</td>\n",
       "      <td>14.0</td>\n",
       "    </tr>\n",
       "  </tbody>\n",
       "</table>\n",
       "<p>5 rows × 43 columns</p>\n",
       "</div>"
      ],
      "text/plain": [
       "   SaleID  bodyType  fuelType  gearbox  kilometer    name  notRepairedDamage  \\\n",
       "0       0       1.0       0.0      0.0       12.5     736                0.0   \n",
       "1       2       1.0       0.0      0.0       12.5   14874                0.0   \n",
       "2       4       1.0       0.0      0.0        5.0  111080                0.0   \n",
       "3       5       0.0       1.0      0.0       10.0  137642                0.0   \n",
       "4       6       0.0       0.0      1.0       15.0    2402                0.0   \n",
       "\n",
       "   offerType  power  seller  ...  brand_price_std_x  brand_price_average_x  \\\n",
       "0          0     60       0  ...             3820.0                 3140.0   \n",
       "1          0    163       0  ...             4352.0                 8704.0   \n",
       "2          0     68       0  ...             2860.0                 3034.0   \n",
       "3          0    109       0  ...             7300.0                 7484.0   \n",
       "4          0    150       0  ...             7096.0                 7792.0   \n",
       "\n",
       "   brand_amount_y  brand_price_max_y  brand_price_median_y  brand_price_min_y  \\\n",
       "0          9568.0            30333.0                1700.0               14.0   \n",
       "1          1252.0            34990.0                7900.0              100.0   \n",
       "2          4400.0            28600.0                2200.0               20.0   \n",
       "3         13240.0            92900.0                5000.0               40.0   \n",
       "4         15840.0            99999.0                5900.0               30.0   \n",
       "\n",
       "   brand_price_sum_y  brand_price_std_y  brand_price_average_y  power_bin  \n",
       "0         30040896.0             3820.0                 3140.0        5.0  \n",
       "1         10910705.0             4352.0                 8704.0       16.0  \n",
       "2         13355631.0             2860.0                 3034.0        6.0  \n",
       "3         99085648.0             7300.0                 7484.0       10.0  \n",
       "4        123470888.0             7096.0                 7792.0       14.0  \n",
       "\n",
       "[5 rows x 43 columns]"
      ]
     },
     "execution_count": 6,
     "metadata": {},
     "output_type": "execute_result"
    }
   ],
   "source": [
    "train_X.head()"
   ]
  },
  {
   "cell_type": "code",
   "execution_count": 9,
   "metadata": {},
   "outputs": [
    {
     "data": {
      "text/plain": [
       "0    1850.0\n",
       "1    6222.0\n",
       "2    5200.0\n",
       "3    8000.0\n",
       "4    3500.0\n",
       "Name: price, dtype: float64"
      ]
     },
     "execution_count": 9,
     "metadata": {},
     "output_type": "execute_result"
    }
   ],
   "source": [
    "train_Y.head()"
   ]
  },
  {
   "cell_type": "code",
   "execution_count": 10,
   "metadata": {},
   "outputs": [],
   "source": [
    "# 简单建模\n",
    "from sklearn.linear_model import LinearRegression\n",
    "model = LinearRegression(normalize=True)\n",
    "model = model.fit(train_X, train_y)\n",
    "\n"
   ]
  },
  {
   "cell_type": "code",
   "execution_count": 11,
   "metadata": {},
   "outputs": [
    {
     "data": {
      "text/plain": [
       "[('offerType', 725572731083951.8),\n",
       " ('seller', 286504532816046.0),\n",
       " ('train', 246426788780860.03),\n",
       " ('brand_price_min_y', 28819772872386.367),\n",
       " ('brand_amount_y', 66206553083.32754),\n",
       " ('brand_price_average_x', 2348809316.7032933),\n",
       " ('brand_price_median_x', 1244614263.7145987),\n",
       " ('brand_price_std_x', 353709470.11090666),\n",
       " ('brand_price_max_y', 158677314.36086193),\n",
       " ('v_6', 3051961.389257771),\n",
       " ('v_8', 608177.8149851151),\n",
       " ('v_9', 138359.1624577285),\n",
       " ('brand_price_sum_x', 82520.16424175972),\n",
       " ('v_3', 14411.822032921738),\n",
       " ('v_13', 10926.247552965984),\n",
       " ('v_12', 10517.281926911332),\n",
       " ('v_10', 9236.941632868886),\n",
       " ('gearbox', 809.5582550829129),\n",
       " ('v_7', 515.3983563241555),\n",
       " ('fuelType', 302.6098459950813),\n",
       " ('bodyType', 191.29463018045948),\n",
       " ('power_bin', 102.38021303286189),\n",
       " ('city', 31.153582815108603),\n",
       " ('power', 12.272047083306743),\n",
       " ('SaleID', -1.4203711566946325e-05),\n",
       " ('name', -0.00016167511644539444),\n",
       " ('used_time', -0.02490814210632749),\n",
       " ('kilometer', -339.1405218139009),\n",
       " ('v_14', -367.57345178066277),\n",
       " ('notRepairedDamage', -512.1679331708983),\n",
       " ('v_0', -2115.979812366909),\n",
       " ('v_11', -4364.075891352022),\n",
       " ('v_2', -9560.120514705295),\n",
       " ('v_4', -15372.698842346563),\n",
       " ('v_1', -30307.662008901978),\n",
       " ('brand_price_sum_y', -82520.16426713068),\n",
       " ('v_5', -181430.46989520607),\n",
       " ('brand_price_max_x', -158677314.35347256),\n",
       " ('brand_price_std_y', -353709469.8042753),\n",
       " ('brand_price_median_y', -1244614263.2416577),\n",
       " ('brand_price_average_y', -2348809316.989742),\n",
       " ('brand_amount_x', -66206553083.180534),\n",
       " ('brand_price_min_x', -28819772872389.367)]"
      ]
     },
     "execution_count": 11,
     "metadata": {},
     "output_type": "execute_result"
    }
   ],
   "source": [
    "#查看训练的线性回归模型的截距intercept与权重\n",
    "'intercept:'+ str(model.intercept_)\n",
    "\n",
    "sorted(dict(zip(continuous_feature_names, model.coef_)).items(), key=lambda x:x[1], reverse=True)"
   ]
  },
  {
   "cell_type": "code",
   "execution_count": 17,
   "metadata": {},
   "outputs": [
    {
     "name": "stdout",
     "output_type": "stream",
     "text": [
      "The predicted price is obvious different from true price\n"
     ]
    },
    {
     "data": {
      "image/png": "[encoded data removed]",
      "text/plain": [
       "<Figure size 432x288 with 1 Axes>"
      ]
     },
     "metadata": {
      "needs_background": "light"
     },
     "output_type": "display_data"
    }
   ],
   "source": [
    "from matplotlib import pyplot as plt\n",
    "subsample_index = np.random.randint(low=0, high=len(train_y), size=50) #生成指定范围内的随机数\n",
    "plt.scatter(train_X['v_9'][subsample_index], train_y[subsample_index], color='black')\n",
    "plt.scatter(train_X['v_9'][subsample_index], model.predict(train_X.loc[subsample_index]), color='blue')\n",
    "plt.xlabel('v_9')\n",
    "plt.ylabel('price')\n",
    "plt.legend(['True Price','Predicted Price'],loc='upper right')\n",
    "print('The predicted price is obvious different from true price')\n",
    "plt.show()\n",
    "\n",
    "'''\n",
    "绘制特征v_9的值与标签的散点图，图片发现模型的预测结果（蓝色点）与真实标签（黑色点）的分布差异较大\n",
    "且部分的预测值出现了小于0的情况，说明我们的模型存在一些问题\n",
    "'''"
   ]
  },
  {
   "cell_type": "code",
   "execution_count": 18,
   "metadata": {},
   "outputs": [
    {
     "name": "stdout",
     "output_type": "stream",
     "text": [
      "It is clear to see the price shows a typical exponential distribution\n"
     ]
    },
    {
     "data": {
      "text/plain": [
       "<matplotlib.axes._subplots.AxesSubplot at 0x22c528d0288>"
      ]
     },
     "execution_count": 18,
     "metadata": {},
     "output_type": "execute_result"
    },
    {
     "data": {
      "image/png": "[encoded data removed]",
      "text/plain": [
       "<Figure size 1080x360 with 2 Axes>"
      ]
     },
     "metadata": {
      "needs_background": "light"
     },
     "output_type": "display_data"
    }
   ],
   "source": [
    "'''\n",
    "通过作图我们发现数据的标签（price）呈现长尾分布，不利于我们的建模预测。原因是很多模型都假设数据误差符合正态分布\n",
    "而长尾分布的数据违背了这一假设\n",
    "'''\n",
    "\n",
    "import seaborn as sns\n",
    "print('It is clear to see the price shows a typical exponential distribution')\n",
    "plt.figure(figsize=(15,5))\n",
    "plt.subplot(1,2,1)\n",
    "sns.distplot(train_y)\n",
    "plt.subplot(1,2,2)\n",
    "sns.distplot(train_y[train_y < np.quantile(train_y, 0.9)])"
   ]
  },
  {
   "cell_type": "code",
   "execution_count": 21,
   "metadata": {},
   "outputs": [],
   "source": [
    "train_y_ln = np.log(train_y+1)  #对标签进行log(x+1)变换，使标签贴近于正态分布"
   ]
  },
  {
   "cell_type": "code",
   "execution_count": 22,
   "metadata": {},
   "outputs": [
    {
     "name": "stdout",
     "output_type": "stream",
     "text": [
      "The transformed price seems like normal distribution\n"
     ]
    },
    {
     "data": {
      "text/plain": [
       "<matplotlib.axes._subplots.AxesSubplot at 0x22c52d69b48>"
      ]
     },
     "execution_count": 22,
     "metadata": {},
     "output_type": "execute_result"
    },
    {
     "data": {
      "image/png": "[encoded data removed]",
      "text/plain": [
       "<Figure size 1080x360 with 2 Axes>"
      ]
     },
     "metadata": {
      "needs_background": "light"
     },
     "output_type": "display_data"
    }
   ],
   "source": [
    "import seaborn as sns\n",
    "print('The transformed price seems like normal distribution')\n",
    "plt.figure(figsize=(15,5))\n",
    "plt.subplot(1,2,1)\n",
    "sns.distplot(train_y_ln)\n",
    "plt.subplot(1,2,2)\n",
    "sns.distplot(train_y_ln[train_y_ln < np.quantile(train_y_ln, 0.9)])"
   ]
  },
  {
   "cell_type": "code",
   "execution_count": 23,
   "metadata": {},
   "outputs": [
    {
     "name": "stdout",
     "output_type": "stream",
     "text": [
      "intercept:-76263007931.1788\n"
     ]
    },
    {
     "data": {
      "text/plain": [
       "[('offerType', 229469483424.36984),\n",
       " ('train', 76263007951.50758),\n",
       " ('seller', 50919250721.35306),\n",
       " ('brand_price_min_y', 7194142593.676309),\n",
       " ('brand_amount_y', 20016488.740268316),\n",
       " ('brand_price_average_x', 744515.1409582656),\n",
       " ('brand_price_median_x', 374715.3807615862),\n",
       " ('brand_price_std_x', 159260.2045211795),\n",
       " ('brand_price_max_y', 49195.01167053799),\n",
       " ('brand_price_sum_x', 20.54350214069605),\n",
       " ('v_9', 8.515250568972741),\n",
       " ('v_5', 7.6034198797196755),\n",
       " ('v_12', 1.9063377819176528),\n",
       " ('v_11', 1.6948584583444495),\n",
       " ('v_7', 1.0198847391149648),\n",
       " ('v_13', 0.9797493456836843),\n",
       " ('v_1', 0.8589029314199369),\n",
       " ('v_3', 0.8128755259705708),\n",
       " ('gearbox', 0.0103869120714974),\n",
       " ('fuelType', 0.00986615171241172),\n",
       " ('power_bin', 0.0059044078545009634),\n",
       " ('bodyType', 0.00532311992597986),\n",
       " ('power', 0.0010412391008115369),\n",
       " ('SaleID', 1.629141471452037e-08),\n",
       " ('name', -5.437034009419375e-08),\n",
       " ('used_time', -8.874753219923502e-06),\n",
       " ('city', -0.002791653463956211),\n",
       " ('v_14', -0.011101766474685559),\n",
       " ('kilometer', -0.021918508332586507),\n",
       " ('v_0', -0.03577331813037177),\n",
       " ('notRepairedDamage', -0.27065893943154734),\n",
       " ('v_4', -0.8595752562930997),\n",
       " ('v_2', -1.3880158557400954),\n",
       " ('v_10', -2.122589221727262),\n",
       " ('brand_price_sum_y', -20.54350214085304),\n",
       " ('v_8', -40.23465561927331),\n",
       " ('v_6', -239.3503170724852),\n",
       " ('brand_price_max_x', -49195.01167010231),\n",
       " ('brand_price_std_y', -159260.2045142027),\n",
       " ('brand_price_median_y', -374715.38074833964),\n",
       " ('brand_price_average_y', -744515.1409716216),\n",
       " ('brand_amount_x', -20016488.74026468),\n",
       " ('brand_price_min_x', -7194142593.676273)]"
      ]
     },
     "execution_count": 23,
     "metadata": {},
     "output_type": "execute_result"
    }
   ],
   "source": [
    "model = model.fit(train_X, train_y_ln)\n",
    "\n",
    "print('intercept:'+ str(model.intercept_))\n",
    "sorted(dict(zip(continuous_feature_names, model.coef_)).items(), key=lambda x:x[1], reverse=True)"
   ]
  },
  {
   "cell_type": "code",
   "execution_count": 24,
   "metadata": {},
   "outputs": [
    {
     "name": "stdout",
     "output_type": "stream",
     "text": [
      "The predicted price seems normal after np.log transforming\n"
     ]
    },
    {
     "data": {
      "image/png": "[encoded data removed]",
      "text/plain": [
       "<Figure size 432x288 with 1 Axes>"
      ]
     },
     "metadata": {
      "needs_background": "light"
     },
     "output_type": "display_data"
    }
   ],
   "source": [
    "plt.scatter(train_X['v_9'][subsample_index], train_y[subsample_index], color='black')\n",
    "plt.scatter(train_X['v_9'][subsample_index], np.exp(model.predict(train_X.loc[subsample_index])), color='blue')\n",
    "plt.xlabel('v_9')\n",
    "plt.ylabel('price')\n",
    "plt.legend(['True Price','Predicted Price'],loc='upper right')\n",
    "print('The predicted price seems normal after np.log transforming')\n",
    "plt.show()"
   ]
  },
  {
   "cell_type": "code",
   "execution_count": 25,
   "metadata": {},
   "outputs": [],
   "source": [
    "# 五折交叉验证\n",
    "from sklearn.model_selection import cross_val_score\n",
    "from sklearn.metrics import mean_absolute_error,  make_scorer"
   ]
  },
  {
   "cell_type": "code",
   "execution_count": 26,
   "metadata": {},
   "outputs": [],
   "source": [
    "def log_transfer(func):\n",
    "    def wrapper(y, yhat):\n",
    "        result = func(np.log(y), np.nan_to_num(np.log(yhat)))\n",
    "        return result\n",
    "    return wrapper"
   ]
  },
  {
   "cell_type": "code",
   "execution_count": 27,
   "metadata": {},
   "outputs": [
    {
     "name": "stderr",
     "output_type": "stream",
     "text": [
      "[Parallel(n_jobs=1)]: Using backend SequentialBackend with 1 concurrent workers.\n",
      "[Parallel(n_jobs=1)]: Done   5 out of   5 | elapsed:    0.5s finished\n"
     ]
    }
   ],
   "source": [
    "scores = cross_val_score(model, X=train_X, y=train_y, verbose=1, cv = 5, scoring=make_scorer(log_transfer(mean_absolute_error)))"
   ]
  },
  {
   "cell_type": "code",
   "execution_count": 29,
   "metadata": {},
   "outputs": [
    {
     "name": "stdout",
     "output_type": "stream",
     "text": [
      "AVG: 2.1007223311274504e+303\n"
     ]
    }
   ],
   "source": [
    "#使用线性回归模型，对未处理过标签的特征数据进行五折交叉验证\n",
    "print('AVG:', np.mean(scores))"
   ]
  },
  {
   "cell_type": "code",
   "execution_count": 30,
   "metadata": {},
   "outputs": [
    {
     "name": "stderr",
     "output_type": "stream",
     "text": [
      "[Parallel(n_jobs=1)]: Using backend SequentialBackend with 1 concurrent workers.\n",
      "[Parallel(n_jobs=1)]: Done   5 out of   5 | elapsed:    0.5s finished\n"
     ]
    }
   ],
   "source": [
    "#使用线性回归模型，对处理过标签的特征数据进行五折交叉验证\n",
    "scores = cross_val_score(model, X=train_X, y=train_y_ln, verbose=1, cv = 5, scoring=make_scorer(mean_absolute_error))\n"
   ]
  },
  {
   "cell_type": "code",
   "execution_count": 31,
   "metadata": {},
   "outputs": [
    {
     "name": "stdout",
     "output_type": "stream",
     "text": [
      "AVG: 0.19566446821606276\n"
     ]
    }
   ],
   "source": [
    "print('AVG:', np.mean(scores))"
   ]
  },
  {
   "cell_type": "code",
   "execution_count": 32,
   "metadata": {},
   "outputs": [
    {
     "data": {
      "text/html": [
       "<div>\n",
       "<style scoped>\n",
       "    .dataframe tbody tr th:only-of-type {\n",
       "        vertical-align: middle;\n",
       "    }\n",
       "\n",
       "    .dataframe tbody tr th {\n",
       "        vertical-align: top;\n",
       "    }\n",
       "\n",
       "    .dataframe thead th {\n",
       "        text-align: right;\n",
       "    }\n",
       "</style>\n",
       "<table border=\"1\" class=\"dataframe\">\n",
       "  <thead>\n",
       "    <tr style=\"text-align: right;\">\n",
       "      <th></th>\n",
       "      <th>cv1</th>\n",
       "      <th>cv2</th>\n",
       "      <th>cv3</th>\n",
       "      <th>cv4</th>\n",
       "      <th>cv5</th>\n",
       "    </tr>\n",
       "  </thead>\n",
       "  <tbody>\n",
       "    <tr>\n",
       "      <th>MAE</th>\n",
       "      <td>0.19256</td>\n",
       "      <td>0.196073</td>\n",
       "      <td>0.196645</td>\n",
       "      <td>0.194728</td>\n",
       "      <td>0.198316</td>\n",
       "    </tr>\n",
       "  </tbody>\n",
       "</table>\n",
       "</div>"
      ],
      "text/plain": [
       "         cv1       cv2       cv3       cv4       cv5\n",
       "MAE  0.19256  0.196073  0.196645  0.194728  0.198316"
      ]
     },
     "execution_count": 32,
     "metadata": {},
     "output_type": "execute_result"
    }
   ],
   "source": [
    "scores = pd.DataFrame(scores.reshape(1,-1))\n",
    "scores.columns = ['cv' + str(x) for x in range(1, 6)]\n",
    "scores.index = ['MAE']\n",
    "scores"
   ]
  },
  {
   "cell_type": "code",
   "execution_count": 33,
   "metadata": {},
   "outputs": [],
   "source": [
    "# 模拟真实业务情况  用靠前时间的4/5当作训练集，靠后时间1/5当作验证集\n",
    "import datetime"
   ]
  },
  {
   "cell_type": "code",
   "execution_count": 35,
   "metadata": {},
   "outputs": [],
   "source": [
    "sample_feature = sample_feature.reset_index(drop=True)\n",
    "split_point = len(sample_feature) // 5 * 4"
   ]
  },
  {
   "cell_type": "code",
   "execution_count": 36,
   "metadata": {},
   "outputs": [],
   "source": [
    "train = sample_feature.loc[:split_point].dropna() #删除带有空值的行，只要有一个空值，就删除整行\n",
    "val = sample_feature.loc[split_point:].dropna()\n",
    "\n",
    "train_X = train[continuous_feature_names]\n",
    "train_y_ln = np.log(train['price'] + 1)\n",
    "val_X = val[continuous_feature_names]\n",
    "val_y_ln = np.log(val['price'] + 1)"
   ]
  },
  {
   "cell_type": "code",
   "execution_count": 37,
   "metadata": {},
   "outputs": [],
   "source": [
    "model = model.fit(train_X, train_y_ln)"
   ]
  },
  {
   "cell_type": "code",
   "execution_count": 38,
   "metadata": {},
   "outputs": [
    {
     "data": {
      "text/plain": [
       "0.19832340867857876"
      ]
     },
     "execution_count": 38,
     "metadata": {},
     "output_type": "execute_result"
    }
   ],
   "source": [
    "mean_absolute_error(val_y_ln, model.predict(val_X))"
   ]
  },
  {
   "cell_type": "code",
   "execution_count": 54,
   "metadata": {},
   "outputs": [],
   "source": [
    "#? learning_curve\n",
    "#\n",
    "from sklearn.model_selection import learning_curve\n",
    "?learning_curve\n"
   ]
  },
  {
   "cell_type": "code",
   "execution_count": 51,
   "metadata": {},
   "outputs": [],
   "source": [
    "# 绘制学习率曲线与验证曲线\n",
    "def plot_learning_curve(estimator, title, X, y, ylim=None, cv=None,n_jobs=1, train_size=np.linspace(.1, 1.0, 5 )):  \n",
    "    plt.figure()  \n",
    "    plt.title(title)  \n",
    "    if ylim is not None:  \n",
    "        plt.ylim(*ylim)  \n",
    "    plt.xlabel('Training example')  \n",
    "    plt.ylabel('score')  \n",
    "    train_sizes, train_scores, test_scores = learning_curve(estimator, X, y, cv=cv, n_jobs=n_jobs, train_sizes=train_size, scoring = make_scorer(mean_absolute_error))  \n",
    "    train_scores_mean = np.mean(train_scores, axis=1)  \n",
    "    train_scores_std = np.std(train_scores, axis=1)  \n",
    "    test_scores_mean = np.mean(test_scores, axis=1)  \n",
    "    test_scores_std = np.std(test_scores, axis=1)  \n",
    "    plt.grid()#区域  \n",
    "    plt.fill_between(train_sizes, train_scores_mean - train_scores_std,  \n",
    "                     train_scores_mean + train_scores_std, alpha=0.1,  \n",
    "                     color=\"r\")  \n",
    "    plt.fill_between(train_sizes, test_scores_mean - test_scores_std,  \n",
    "                     test_scores_mean + test_scores_std, alpha=0.1,  \n",
    "                     color=\"g\")  \n",
    "    plt.plot(train_sizes, train_scores_mean, 'o-', color='r',  \n",
    "             label=\"Training score\")  \n",
    "    plt.plot(train_sizes, test_scores_mean,'o-',color=\"g\",  \n",
    "             label=\"Cross-validation score\")  \n",
    "    plt.legend(loc=\"best\")  \n",
    "    return plt  "
   ]
  },
  {
   "cell_type": "code",
   "execution_count": 52,
   "metadata": {},
   "outputs": [
    {
     "data": {
      "text/plain": [
       "<module 'matplotlib.pyplot' from 'C:\\\\Users\\\\Richman\\\\Anaconda3\\\\lib\\\\site-packages\\\\matplotlib\\\\pyplot.py'>"
      ]
     },
     "execution_count": 52,
     "metadata": {},
     "output_type": "execute_result"
    },
    {
     "data": {
      "image/png": "[encoded data removed]",
      "text/plain": [
       "<Figure size 432x288 with 1 Axes>"
      ]
     },
     "metadata": {
      "needs_background": "light"
     },
     "output_type": "display_data"
    }
   ],
   "source": [
    "plot_learning_curve(LinearRegression(), 'Liner_model', train_X[:1000], train_y_ln[:1000], ylim=(0.0, 0.5), cv=5, n_jobs=1)  "
   ]
  },
  {
   "cell_type": "code",
   "execution_count": 55,
   "metadata": {},
   "outputs": [],
   "source": [
    "# 多种模型对比\n",
    "train = sample_feature[continuous_feature_names + ['price']].dropna()\n",
    "\n",
    "train_X = train[continuous_feature_names]\n",
    "train_y = train['price']\n",
    "train_y_ln = np.log(train_y + 1)"
   ]
  },
  {
   "cell_type": "code",
   "execution_count": 56,
   "metadata": {},
   "outputs": [],
   "source": [
    "# 线性模型&嵌入式特征选择\n",
    "from sklearn.linear_model import LinearRegression\n",
    "from sklearn.linear_model import Ridge\n",
    "from sklearn.linear_model import Lasso"
   ]
  },
  {
   "cell_type": "code",
   "execution_count": 57,
   "metadata": {},
   "outputs": [],
   "source": [
    "models = [LinearRegression(),\n",
    "          Ridge(),\n",
    "          Lasso()]"
   ]
  },
  {
   "cell_type": "code",
   "execution_count": 60,
   "metadata": {},
   "outputs": [
    {
     "name": "stdout",
     "output_type": "stream",
     "text": [
      "LinearRegression is finished\n",
      "Ridge is finished\n",
      "Lasso is finished\n"
     ]
    }
   ],
   "source": [
    "result = dict()\n",
    "for model in models:\n",
    "    model_name = str(model).split('(')[0]\n",
    "    scores = cross_val_score(model, X=train_X, y=train_y_ln, verbose=0, cv = 5, scoring=make_scorer(mean_absolute_error))\n",
    "    result[model_name] = scores\n",
    "    print(model_name + ' is finished')"
   ]
  },
  {
   "cell_type": "code",
   "execution_count": 61,
   "metadata": {},
   "outputs": [
    {
     "data": {
      "text/html": [
       "<div>\n",
       "<style scoped>\n",
       "    .dataframe tbody tr th:only-of-type {\n",
       "        vertical-align: middle;\n",
       "    }\n",
       "\n",
       "    .dataframe tbody tr th {\n",
       "        vertical-align: top;\n",
       "    }\n",
       "\n",
       "    .dataframe thead th {\n",
       "        text-align: right;\n",
       "    }\n",
       "</style>\n",
       "<table border=\"1\" class=\"dataframe\">\n",
       "  <thead>\n",
       "    <tr style=\"text-align: right;\">\n",
       "      <th></th>\n",
       "      <th>LinearRegression</th>\n",
       "      <th>Ridge</th>\n",
       "      <th>Lasso</th>\n",
       "    </tr>\n",
       "  </thead>\n",
       "  <tbody>\n",
       "    <tr>\n",
       "      <th>cv1</th>\n",
       "      <td>0.192463</td>\n",
       "      <td>0.196757</td>\n",
       "      <td>0.389907</td>\n",
       "    </tr>\n",
       "    <tr>\n",
       "      <th>cv2</th>\n",
       "      <td>0.195965</td>\n",
       "      <td>0.199923</td>\n",
       "      <td>0.385803</td>\n",
       "    </tr>\n",
       "    <tr>\n",
       "      <th>cv3</th>\n",
       "      <td>0.196462</td>\n",
       "      <td>0.200655</td>\n",
       "      <td>0.389073</td>\n",
       "    </tr>\n",
       "    <tr>\n",
       "      <th>cv4</th>\n",
       "      <td>0.194833</td>\n",
       "      <td>0.198855</td>\n",
       "      <td>0.385541</td>\n",
       "    </tr>\n",
       "    <tr>\n",
       "      <th>cv5</th>\n",
       "      <td>0.198281</td>\n",
       "      <td>0.202291</td>\n",
       "      <td>0.388556</td>\n",
       "    </tr>\n",
       "  </tbody>\n",
       "</table>\n",
       "</div>"
      ],
      "text/plain": [
       "     LinearRegression     Ridge     Lasso\n",
       "cv1          0.192463  0.196757  0.389907\n",
       "cv2          0.195965  0.199923  0.385803\n",
       "cv3          0.196462  0.200655  0.389073\n",
       "cv4          0.194833  0.198855  0.385541\n",
       "cv5          0.198281  0.202291  0.388556"
      ]
     },
     "execution_count": 61,
     "metadata": {},
     "output_type": "execute_result"
    }
   ],
   "source": [
    "# 对三种方法的效果对比\n",
    "result = pd.DataFrame(result)\n",
    "result.index = ['cv' + str(x) for x in range(1, 6)]\n",
    "result\n"
   ]
  },
  {
   "cell_type": "code",
   "execution_count": 62,
   "metadata": {},
   "outputs": [
    {
     "name": "stdout",
     "output_type": "stream",
     "text": [
      "intercept:19.97939680068277\n"
     ]
    },
    {
     "data": {
      "text/plain": [
       "<matplotlib.axes._subplots.AxesSubplot at 0x22c53066d48>"
      ]
     },
     "execution_count": 62,
     "metadata": {},
     "output_type": "execute_result"
    },
    {
     "data": {
      "image/png": "[encoded data removed]",
      "text/plain": [
       "<Figure size 432x288 with 1 Axes>"
      ]
     },
     "metadata": {
      "needs_background": "light"
     },
     "output_type": "display_data"
    }
   ],
   "source": [
    "model = LinearRegression().fit(train_X, train_y_ln)\n",
    "print('intercept:'+ str(model.intercept_))\n",
    "sns.barplot(abs(model.coef_), continuous_feature_names)"
   ]
  },
  {
   "cell_type": "code",
   "execution_count": 63,
   "metadata": {},
   "outputs": [
    {
     "name": "stdout",
     "output_type": "stream",
     "text": [
      "intercept:6.074946866639358\n"
     ]
    },
    {
     "data": {
      "text/plain": [
       "<matplotlib.axes._subplots.AxesSubplot at 0x22c51fd50c8>"
      ]
     },
     "execution_count": 63,
     "metadata": {},
     "output_type": "execute_result"
    },
    {
     "data": {
      "image/png": "[encoded data removed]",
      "text/plain": [
       "<Figure size 432x288 with 1 Axes>"
      ]
     },
     "metadata": {
      "needs_background": "light"
     },
     "output_type": "display_data"
    }
   ],
   "source": [
    "# L2正则化在拟合过程中通常都倾向于让权值尽可能小，最后构造一个所有参数都比较小的模型\n",
    "\n",
    "model = Ridge().fit(train_X, train_y_ln)\n",
    "print('intercept:'+ str(model.intercept_))\n",
    "sns.barplot(abs(model.coef_), continuous_feature_names)"
   ]
  },
  {
   "cell_type": "code",
   "execution_count": 64,
   "metadata": {},
   "outputs": [
    {
     "name": "stdout",
     "output_type": "stream",
     "text": [
      "intercept:8.66362265557433\n"
     ]
    },
    {
     "data": {
      "text/plain": [
       "<matplotlib.axes._subplots.AxesSubplot at 0x22c54924cc8>"
      ]
     },
     "execution_count": 64,
     "metadata": {},
     "output_type": "execute_result"
    },
    {
     "data": {
      "image/png": "[encoded data removed]",
      "text/plain": [
       "<Figure size 432x288 with 1 Axes>"
      ]
     },
     "metadata": {
      "needs_background": "light"
     },
     "output_type": "display_data"
    }
   ],
   "source": [
    "# L1正则化有助于生成一个稀疏权值矩阵，进而可以用于特征选择。如下图，我们发现power和used_time的特征非常重要\n",
    "model = Lasso().fit(train_X, train_y_ln)\n",
    "print('intercept:'+ str(model.intercept_))\n",
    "sns.barplot(abs(model.coef_), continuous_feature_names)"
   ]
  },
  {
   "cell_type": "code",
   "execution_count": 65,
   "metadata": {},
   "outputs": [],
   "source": [
    "# 除了线性模型外，还有许多常用的非线性模型\n",
    "from sklearn.linear_model import LinearRegression\n",
    "from sklearn.svm import SVC\n",
    "from sklearn.tree import DecisionTreeRegressor\n",
    "from sklearn.ensemble import RandomForestRegressor\n",
    "from sklearn.ensemble import GradientBoostingRegressor\n",
    "from sklearn.neural_network import MLPRegressor\n",
    "from xgboost.sklearn import XGBRegressor\n",
    "from lightgbm.sklearn import LGBMRegressor"
   ]
  },
  {
   "cell_type": "code",
   "execution_count": 66,
   "metadata": {},
   "outputs": [],
   "source": [
    "models = [LinearRegression(),\n",
    "          DecisionTreeRegressor(),\n",
    "          RandomForestRegressor(),\n",
    "          GradientBoostingRegressor(),\n",
    "          MLPRegressor(solver='lbfgs', max_iter=100), \n",
    "          XGBRegressor(n_estimators = 100, objective='reg:squarederror'), \n",
    "          LGBMRegressor(n_estimators = 100)]"
   ]
  },
  {
   "cell_type": "code",
   "execution_count": 67,
   "metadata": {},
   "outputs": [
    {
     "name": "stdout",
     "output_type": "stream",
     "text": [
      "LinearRegression is finished\n",
      "DecisionTreeRegressor is finished\n",
      "RandomForestRegressor is finished\n",
      "GradientBoostingRegressor is finished\n",
      "MLPRegressor is finished\n",
      "XGBRegressor is finished\n",
      "LGBMRegressor is finished\n"
     ]
    }
   ],
   "source": [
    "result = dict()\n",
    "for model in models:\n",
    "    model_name = str(model).split('(')[0]\n",
    "    scores = cross_val_score(model, X=train_X, y=train_y_ln, verbose=0, cv = 5, scoring=make_scorer(mean_absolute_error))\n",
    "    result[model_name] = scores\n",
    "    print(model_name + ' is finished')"
   ]
  },
  {
   "cell_type": "code",
   "execution_count": 68,
   "metadata": {},
   "outputs": [
    {
     "data": {
      "text/html": [
       "<div>\n",
       "<style scoped>\n",
       "    .dataframe tbody tr th:only-of-type {\n",
       "        vertical-align: middle;\n",
       "    }\n",
       "\n",
       "    .dataframe tbody tr th {\n",
       "        vertical-align: top;\n",
       "    }\n",
       "\n",
       "    .dataframe thead th {\n",
       "        text-align: right;\n",
       "    }\n",
       "</style>\n",
       "<table border=\"1\" class=\"dataframe\">\n",
       "  <thead>\n",
       "    <tr style=\"text-align: right;\">\n",
       "      <th></th>\n",
       "      <th>LinearRegression</th>\n",
       "      <th>DecisionTreeRegressor</th>\n",
       "      <th>RandomForestRegressor</th>\n",
       "      <th>GradientBoostingRegressor</th>\n",
       "      <th>MLPRegressor</th>\n",
       "      <th>XGBRegressor</th>\n",
       "      <th>LGBMRegressor</th>\n",
       "    </tr>\n",
       "  </thead>\n",
       "  <tbody>\n",
       "    <tr>\n",
       "      <th>cv1</th>\n",
       "      <td>0.192463</td>\n",
       "      <td>0.198131</td>\n",
       "      <td>0.145203</td>\n",
       "      <td>0.169269</td>\n",
       "      <td>2335.107076</td>\n",
       "      <td>0.142251</td>\n",
       "      <td>0.143690</td>\n",
       "    </tr>\n",
       "    <tr>\n",
       "      <th>cv2</th>\n",
       "      <td>0.195965</td>\n",
       "      <td>0.196381</td>\n",
       "      <td>0.145906</td>\n",
       "      <td>0.173228</td>\n",
       "      <td>1683.688570</td>\n",
       "      <td>0.143608</td>\n",
       "      <td>0.146775</td>\n",
       "    </tr>\n",
       "    <tr>\n",
       "      <th>cv3</th>\n",
       "      <td>0.196462</td>\n",
       "      <td>0.194979</td>\n",
       "      <td>0.146826</td>\n",
       "      <td>0.173740</td>\n",
       "      <td>770.475499</td>\n",
       "      <td>0.143394</td>\n",
       "      <td>0.146638</td>\n",
       "    </tr>\n",
       "    <tr>\n",
       "      <th>cv4</th>\n",
       "      <td>0.194833</td>\n",
       "      <td>0.195077</td>\n",
       "      <td>0.143825</td>\n",
       "      <td>0.171536</td>\n",
       "      <td>696.800508</td>\n",
       "      <td>0.140345</td>\n",
       "      <td>0.144429</td>\n",
       "    </tr>\n",
       "    <tr>\n",
       "      <th>cv5</th>\n",
       "      <td>0.198281</td>\n",
       "      <td>0.203725</td>\n",
       "      <td>0.152141</td>\n",
       "      <td>0.173578</td>\n",
       "      <td>1650.275273</td>\n",
       "      <td>0.154233</td>\n",
       "      <td>0.147320</td>\n",
       "    </tr>\n",
       "  </tbody>\n",
       "</table>\n",
       "</div>"
      ],
      "text/plain": [
       "     LinearRegression  DecisionTreeRegressor  RandomForestRegressor  \\\n",
       "cv1          0.192463               0.198131               0.145203   \n",
       "cv2          0.195965               0.196381               0.145906   \n",
       "cv3          0.196462               0.194979               0.146826   \n",
       "cv4          0.194833               0.195077               0.143825   \n",
       "cv5          0.198281               0.203725               0.152141   \n",
       "\n",
       "     GradientBoostingRegressor  MLPRegressor  XGBRegressor  LGBMRegressor  \n",
       "cv1                   0.169269   2335.107076      0.142251       0.143690  \n",
       "cv2                   0.173228   1683.688570      0.143608       0.146775  \n",
       "cv3                   0.173740    770.475499      0.143394       0.146638  \n",
       "cv4                   0.171536    696.800508      0.140345       0.144429  \n",
       "cv5                   0.173578   1650.275273      0.154233       0.147320  "
      ]
     },
     "execution_count": 68,
     "metadata": {},
     "output_type": "execute_result"
    }
   ],
   "source": [
    "result = pd.DataFrame(result)\n",
    "result.index = ['cv' + str(x) for x in range(1, 6)]\n",
    "result"
   ]
  },
  {
   "cell_type": "code",
   "execution_count": 69,
   "metadata": {},
   "outputs": [],
   "source": [
    "# 模型调参\n",
    "## LGB的参数集合：\n",
    "\n",
    "objective = ['regression', 'regression_l1', 'mape', 'huber', 'fair']\n",
    "\n",
    "num_leaves = [3,5,10,15,20,40, 55]\n",
    "max_depth = [3,5,10,15,20,40, 55]\n",
    "bagging_fraction = []\n",
    "feature_fraction = []\n",
    "drop_rate = []\n"
   ]
  },
  {
   "cell_type": "code",
   "execution_count": 70,
   "metadata": {},
   "outputs": [],
   "source": [
    "# 贪心调参\n",
    "best_obj = dict()\n",
    "for obj in objective:\n",
    "    model = LGBMRegressor(objective=obj)\n",
    "    score = np.mean(cross_val_score(model, X=train_X, y=train_y_ln, verbose=0, cv = 5, scoring=make_scorer(mean_absolute_error)))\n",
    "    best_obj[obj] = score\n",
    "    \n",
    "best_leaves = dict()\n",
    "for leaves in num_leaves:\n",
    "    model = LGBMRegressor(objective=min(best_obj.items(), key=lambda x:x[1])[0], num_leaves=leaves)\n",
    "    score = np.mean(cross_val_score(model, X=train_X, y=train_y_ln, verbose=0, cv = 5, scoring=make_scorer(mean_absolute_error)))\n",
    "    best_leaves[leaves] = score\n",
    "    \n",
    "best_depth = dict()\n",
    "for depth in max_depth:\n",
    "    model = LGBMRegressor(objective=min(best_obj.items(), key=lambda x:x[1])[0],\n",
    "                          num_leaves=min(best_leaves.items(), key=lambda x:x[1])[0],\n",
    "                          max_depth=depth)\n",
    "    score = np.mean(cross_val_score(model, X=train_X, y=train_y_ln, verbose=0, cv = 5, scoring=make_scorer(mean_absolute_error)))\n",
    "    best_depth[depth] = score\n"
   ]
  },
  {
   "cell_type": "code",
   "execution_count": 71,
   "metadata": {},
   "outputs": [
    {
     "data": {
      "text/plain": [
       "<matplotlib.axes._subplots.AxesSubplot at 0x22c55548288>"
      ]
     },
     "execution_count": 71,
     "metadata": {},
     "output_type": "execute_result"
    },
    {
     "data": {
      "image/png": "[encoded data removed]",
      "text/plain": [
       "<Figure size 432x288 with 1 Axes>"
      ]
     },
     "metadata": {
      "needs_background": "light"
     },
     "output_type": "display_data"
    }
   ],
   "source": [
    "sns.lineplot(x=['0_initial','1_turning_obj','2_turning_leaves','3_turning_depth'], y=[0.143 ,min(best_obj.values()), min(best_leaves.values()), min(best_depth.values())])"
   ]
  },
  {
   "cell_type": "code",
   "execution_count": 72,
   "metadata": {},
   "outputs": [],
   "source": [
    "# Grid Search调参\n",
    "from sklearn.model_selection import GridSearchCV"
   ]
  },
  {
   "cell_type": "code",
   "execution_count": 73,
   "metadata": {},
   "outputs": [],
   "source": [
    "parameters = {'objective': objective , 'num_leaves': num_leaves, 'max_depth': max_depth}\n",
    "model = LGBMRegressor()\n",
    "clf = GridSearchCV(model, parameters, cv=5)\n",
    "clf = clf.fit(train_X, train_y)"
   ]
  },
  {
   "cell_type": "code",
   "execution_count": 74,
   "metadata": {},
   "outputs": [
    {
     "data": {
      "text/plain": [
       "{'max_depth': 10, 'num_leaves': 55, 'objective': 'regression'}"
      ]
     },
     "execution_count": 74,
     "metadata": {},
     "output_type": "execute_result"
    }
   ],
   "source": [
    "clf.best_params_"
   ]
  },
  {
   "cell_type": "code",
   "execution_count": 75,
   "metadata": {},
   "outputs": [],
   "source": [
    "model = LGBMRegressor(objective='regression',\n",
    "                          num_leaves=55,\n",
    "                          max_depth=15)"
   ]
  },
  {
   "cell_type": "code",
   "execution_count": 76,
   "metadata": {},
   "outputs": [
    {
     "data": {
      "text/plain": [
       "0.14019787390273827"
      ]
     },
     "execution_count": 76,
     "metadata": {},
     "output_type": "execute_result"
    }
   ],
   "source": [
    "np.mean(cross_val_score(model, X=train_X, y=train_y_ln, verbose=0, cv = 5, scoring=make_scorer(mean_absolute_error)))"
   ]
  },
  {
   "cell_type": "code",
   "execution_count": 79,
   "metadata": {},
   "outputs": [],
   "source": [
    "# 贝叶斯调参\n",
    "from bayes_opt import BayesianOptimization\n"
   ]
  },
  {
   "cell_type": "code",
   "execution_count": 80,
   "metadata": {},
   "outputs": [],
   "source": [
    "def rf_cv(num_leaves, max_depth, subsample, min_child_samples):\n",
    "    val = cross_val_score(\n",
    "        LGBMRegressor(objective = 'regression_l1',\n",
    "            num_leaves=int(num_leaves),\n",
    "            max_depth=int(max_depth),\n",
    "            subsample = subsample,\n",
    "            min_child_samples = int(min_child_samples)\n",
    "        ),\n",
    "        X=train_X, y=train_y_ln, verbose=0, cv = 5, scoring=make_scorer(mean_absolute_error)\n",
    "    ).mean()\n",
    "    return 1 - val"
   ]
  },
  {
   "cell_type": "code",
   "execution_count": 81,
   "metadata": {},
   "outputs": [],
   "source": [
    "rf_bo = BayesianOptimization(\n",
    "    rf_cv,\n",
    "    {\n",
    "    'num_leaves': (2, 100),\n",
    "    'max_depth': (2, 100),\n",
    "    'subsample': (0.1, 1),\n",
    "    'min_child_samples' : (2, 100)\n",
    "    }\n",
    ")"
   ]
  },
  {
   "cell_type": "code",
   "execution_count": 82,
   "metadata": {},
   "outputs": [
    {
     "name": "stdout",
     "output_type": "stream",
     "text": [
      "|   iter    |  target   | max_depth | min_ch... | num_le... | subsample |\n",
      "-------------------------------------------------------------------------\n",
      "| \u001b[0m 1       \u001b[0m | \u001b[0m 0.8535  \u001b[0m | \u001b[0m 57.49   \u001b[0m | \u001b[0m 38.41   \u001b[0m | \u001b[0m 26.03   \u001b[0m | \u001b[0m 0.9066  \u001b[0m |\n",
      "| \u001b[0m 2       \u001b[0m | \u001b[0m 0.8379  \u001b[0m | \u001b[0m 55.56   \u001b[0m | \u001b[0m 2.719   \u001b[0m | \u001b[0m 10.91   \u001b[0m | \u001b[0m 0.9073  \u001b[0m |\n",
      "| \u001b[95m 3       \u001b[0m | \u001b[95m 0.8646  \u001b[0m | \u001b[95m 86.95   \u001b[0m | \u001b[95m 47.16   \u001b[0m | \u001b[95m 71.15   \u001b[0m | \u001b[95m 0.1917  \u001b[0m |\n",
      "| \u001b[0m 4       \u001b[0m | \u001b[0m 0.8486  \u001b[0m | \u001b[0m 5.244   \u001b[0m | \u001b[0m 7.045   \u001b[0m | \u001b[0m 75.77   \u001b[0m | \u001b[0m 0.6559  \u001b[0m |\n",
      "| \u001b[0m 5       \u001b[0m | \u001b[0m 0.864   \u001b[0m | \u001b[0m 23.44   \u001b[0m | \u001b[0m 38.01   \u001b[0m | \u001b[0m 65.77   \u001b[0m | \u001b[0m 0.8741  \u001b[0m |\n",
      "| \u001b[0m 6       \u001b[0m | \u001b[0m 0.8051  \u001b[0m | \u001b[0m 2.85    \u001b[0m | \u001b[0m 99.88   \u001b[0m | \u001b[0m 97.53   \u001b[0m | \u001b[0m 0.687   \u001b[0m |\n",
      "| \u001b[0m 7       \u001b[0m | \u001b[0m 0.8634  \u001b[0m | \u001b[0m 56.6    \u001b[0m | \u001b[0m 39.6    \u001b[0m | \u001b[0m 63.43   \u001b[0m | \u001b[0m 0.928   \u001b[0m |\n",
      "| \u001b[95m 8       \u001b[0m | \u001b[95m 0.8652  \u001b[0m | \u001b[95m 71.31   \u001b[0m | \u001b[95m 35.8    \u001b[0m | \u001b[95m 76.41   \u001b[0m | \u001b[95m 0.697   \u001b[0m |\n",
      "| \u001b[0m 9       \u001b[0m | \u001b[0m 0.8104  \u001b[0m | \u001b[0m 5.335   \u001b[0m | \u001b[0m 96.18   \u001b[0m | \u001b[0m 4.503   \u001b[0m | \u001b[0m 0.5937  \u001b[0m |\n",
      "| \u001b[95m 10      \u001b[0m | \u001b[95m 0.8656  \u001b[0m | \u001b[95m 73.2    \u001b[0m | \u001b[95m 31.54   \u001b[0m | \u001b[95m 82.57   \u001b[0m | \u001b[95m 0.5416  \u001b[0m |\n",
      "| \u001b[95m 11      \u001b[0m | \u001b[95m 0.8671  \u001b[0m | \u001b[95m 99.3    \u001b[0m | \u001b[95m 88.33   \u001b[0m | \u001b[95m 99.22   \u001b[0m | \u001b[95m 0.2076  \u001b[0m |\n",
      "| \u001b[0m 12      \u001b[0m | \u001b[0m 0.8009  \u001b[0m | \u001b[0m 2.41    \u001b[0m | \u001b[0m 26.79   \u001b[0m | \u001b[0m 3.117   \u001b[0m | \u001b[0m 0.501   \u001b[0m |\n",
      "| \u001b[0m 13      \u001b[0m | \u001b[0m 0.8254  \u001b[0m | \u001b[0m 97.29   \u001b[0m | \u001b[0m 98.78   \u001b[0m | \u001b[0m 6.035   \u001b[0m | \u001b[0m 0.3346  \u001b[0m |\n",
      "| \u001b[0m 14      \u001b[0m | \u001b[0m 0.8667  \u001b[0m | \u001b[0m 98.25   \u001b[0m | \u001b[0m 5.29    \u001b[0m | \u001b[0m 98.07   \u001b[0m | \u001b[0m 0.9763  \u001b[0m |\n",
      "| \u001b[0m 15      \u001b[0m | \u001b[0m 0.772   \u001b[0m | \u001b[0m 99.55   \u001b[0m | \u001b[0m 6.625   \u001b[0m | \u001b[0m 2.548   \u001b[0m | \u001b[0m 0.3543  \u001b[0m |\n",
      "| \u001b[0m 16      \u001b[0m | \u001b[0m 0.8656  \u001b[0m | \u001b[0m 69.8    \u001b[0m | \u001b[0m 36.15   \u001b[0m | \u001b[0m 79.64   \u001b[0m | \u001b[0m 0.3099  \u001b[0m |\n",
      "| \u001b[0m 17      \u001b[0m | \u001b[0m 0.8633  \u001b[0m | \u001b[0m 65.91   \u001b[0m | \u001b[0m 98.89   \u001b[0m | \u001b[0m 60.41   \u001b[0m | \u001b[0m 0.2548  \u001b[0m |\n",
      "| \u001b[0m 18      \u001b[0m | \u001b[0m 0.8633  \u001b[0m | \u001b[0m 48.59   \u001b[0m | \u001b[0m 2.665   \u001b[0m | \u001b[0m 63.31   \u001b[0m | \u001b[0m 0.4003  \u001b[0m |\n",
      "| \u001b[0m 19      \u001b[0m | \u001b[0m 0.8667  \u001b[0m | \u001b[0m 43.14   \u001b[0m | \u001b[0m 2.7     \u001b[0m | \u001b[0m 98.63   \u001b[0m | \u001b[0m 0.2742  \u001b[0m |\n",
      "| \u001b[0m 20      \u001b[0m | \u001b[0m 0.864   \u001b[0m | \u001b[0m 99.49   \u001b[0m | \u001b[0m 98.99   \u001b[0m | \u001b[0m 67.88   \u001b[0m | \u001b[0m 0.7482  \u001b[0m |\n",
      "| \u001b[95m 21      \u001b[0m | \u001b[95m 0.8673  \u001b[0m | \u001b[95m 96.71   \u001b[0m | \u001b[95m 56.3    \u001b[0m | \u001b[95m 99.67   \u001b[0m | \u001b[95m 0.874   \u001b[0m |\n",
      "| \u001b[0m 22      \u001b[0m | \u001b[0m 0.867   \u001b[0m | \u001b[0m 74.31   \u001b[0m | \u001b[0m 4.524   \u001b[0m | \u001b[0m 99.54   \u001b[0m | \u001b[0m 0.8858  \u001b[0m |\n",
      "| \u001b[0m 23      \u001b[0m | \u001b[0m 0.8669  \u001b[0m | \u001b[0m 37.46   \u001b[0m | \u001b[0m 34.27   \u001b[0m | \u001b[0m 98.34   \u001b[0m | \u001b[0m 0.177   \u001b[0m |\n",
      "| \u001b[0m 24      \u001b[0m | \u001b[0m 0.8663  \u001b[0m | \u001b[0m 68.97   \u001b[0m | \u001b[0m 73.64   \u001b[0m | \u001b[0m 87.34   \u001b[0m | \u001b[0m 0.1967  \u001b[0m |\n",
      "| \u001b[0m 25      \u001b[0m | \u001b[0m 0.8604  \u001b[0m | \u001b[0m 45.26   \u001b[0m | \u001b[0m 69.55   \u001b[0m | \u001b[0m 45.53   \u001b[0m | \u001b[0m 0.1716  \u001b[0m |\n",
      "| \u001b[0m 26      \u001b[0m | \u001b[0m 0.8666  \u001b[0m | \u001b[0m 99.01   \u001b[0m | \u001b[0m 35.23   \u001b[0m | \u001b[0m 97.97   \u001b[0m | \u001b[0m 0.2871  \u001b[0m |\n",
      "| \u001b[0m 27      \u001b[0m | \u001b[0m 0.8658  \u001b[0m | \u001b[0m 91.87   \u001b[0m | \u001b[0m 77.65   \u001b[0m | \u001b[0m 81.6    \u001b[0m | \u001b[0m 0.1975  \u001b[0m |\n",
      "| \u001b[0m 28      \u001b[0m | \u001b[0m 0.8672  \u001b[0m | \u001b[0m 77.88   \u001b[0m | \u001b[0m 98.76   \u001b[0m | \u001b[0m 98.53   \u001b[0m | \u001b[0m 0.5197  \u001b[0m |\n",
      "| \u001b[0m 29      \u001b[0m | \u001b[0m 0.8669  \u001b[0m | \u001b[0m 73.06   \u001b[0m | \u001b[0m 52.05   \u001b[0m | \u001b[0m 98.86   \u001b[0m | \u001b[0m 0.1892  \u001b[0m |\n",
      "| \u001b[0m 30      \u001b[0m | \u001b[0m 0.8665  \u001b[0m | \u001b[0m 95.54   \u001b[0m | \u001b[0m 99.08   \u001b[0m | \u001b[0m 88.13   \u001b[0m | \u001b[0m 0.9868  \u001b[0m |\n",
      "=========================================================================\n"
     ]
    }
   ],
   "source": [
    "rf_bo.maximize()"
   ]
  },
  {
   "cell_type": "code",
   "execution_count": 83,
   "metadata": {},
   "outputs": [
    {
     "data": {
      "text/plain": [
       "0.13269909046910489"
      ]
     },
     "execution_count": 83,
     "metadata": {},
     "output_type": "execute_result"
    }
   ],
   "source": [
    "1 - rf_bo.max['target']"
   ]
  },
  {
   "cell_type": "code",
   "execution_count": null,
   "metadata": {},
   "outputs": [],
   "source": []
  }
 ],
 "metadata": {
  "kernelspec": {
   "display_name": "Python 3",
   "language": "python",
   "name": "python3"
  },
  "language_info": {
   "codemirror_mode": {
    "name": "ipython",
    "version": 3
   },
   "file_extension": ".py",
   "mimetype": "text/x-python",
   "name": "python",
   "nbconvert_exporter": "python",
   "pygments_lexer": "ipython3",
   "version": "3.7.4"
  }
 },
 "nbformat": 4,
 "nbformat_minor": 2
}
